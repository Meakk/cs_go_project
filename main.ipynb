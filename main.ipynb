{
 "cells": [
  {
   "cell_type": "markdown",
   "id": "5dfcaf4a",
   "metadata": {},
   "source": [
    "# CS GO DOWNLOAD AND PARSE\n",
    "\n",
    "# I/ PARSE\n",
    "\n",
    "#### Mandatory : Enter the player_name of one of your opponent and the map on which you are going to play.\n",
    "#### Optional : Enter the list of several opponents so you will analyze only matches with the same premade."
   ]
  },
  {
   "cell_type": "code",
   "execution_count": null,
   "id": "2337c78a",
   "metadata": {
    "scrolled": true
   },
   "outputs": [],
   "source": [
    "from cs_go_analyse.opponent_analysis import *\n",
    "import pandas as pd\n",
    "import time\n",
    "import multiprocessing\n",
    "from download_matches.Match_recuperation.Data_Parse import *\n",
    "from cs_go_analyse.opponent_analysis import *\n",
    "import pandas as pd\n",
    "import warnings\n",
    "\n",
    "\n",
    "if __name__ == \"__main__\":\n",
    "    warnings.filterwarnings('ignore')\n",
    "    player_name = \"NENEs\"\n",
    "    map_select = \"de_inferno\"\n",
    "    premade = []\n",
    "\n",
    "    match_recuperation_dict_txt(api_key=\"38b28095-4ca6-48b6-aec5-748f507d5fcf\",\n",
    "                                player_id=\"57c4c556-3b8e-4695-bf55-122dde5040db\", starting_item_position_call=0,\n",
    "                                return_items_call=70 , map_select=map_select, nickname = player_name, premade = premade,replace = True,\n",
    "                                nb_match_analyses_max = 10)\n",
    "    \n",
    "    list_match = read_all_csgo_match_of_one_map_json(map_select)\n",
    "    print(list_match)"
   ]
  },
  {
   "cell_type": "markdown",
   "id": "ee3a9781",
   "metadata": {},
   "source": [
    "# II/ Match Analysis\n",
    "\n",
    "## A/ Gameplay general style analysis"
   ]
  },
  {
   "cell_type": "code",
   "execution_count": null,
   "id": "a46b5cfb",
   "metadata": {
    "scrolled": true
   },
   "outputs": [],
   "source": [
    "%%time\n",
    "from cs_go_analyse.opponent_analysis import *\n",
    "import pandas as pd\n",
    "import warnings\n",
    "premade = ['NENEs']\n",
    "warnings.filterwarnings('ignore')\n",
    "list_match = read_all_csgo_match_of_one_map_json(map_select)\n",
    "print(map_select)\n",
    "data,df = fav_bomb_site_analysis(player_name,list_match,map_select)\n",
    "data"
   ]
  },
  {
   "cell_type": "markdown",
   "id": "fdb8593e",
   "metadata": {},
   "source": [
    "# B/ Gunround and following round analysis\n",
    "## B.1/ T side pistol"
   ]
  },
  {
   "cell_type": "code",
   "execution_count": null,
   "id": "c53e57f0",
   "metadata": {
    "scrolled": true
   },
   "outputs": [],
   "source": [
    "%%time\n",
    "print(\"SIDE = T, map:\",map_select,\"team :\",player_name)\n",
    "df = pistol_analysis(player_name,map_select,list_match,side = 't')"
   ]
  },
  {
   "cell_type": "code",
   "execution_count": null,
   "id": "ed83b8ad",
   "metadata": {
    "scrolled": true
   },
   "outputs": [],
   "source": [
    "%%time\n",
    "second_round(player_name,map_select,list_match,side = 't',premade = [],winning_gr_side = \"T\")"
   ]
  },
  {
   "cell_type": "code",
   "execution_count": null,
   "id": "95f0a32b",
   "metadata": {
    "scrolled": true
   },
   "outputs": [],
   "source": [
    "%%time\n",
    "second_round(player_name,map_select,list_match,side = 't',premade = [],winning_gr_side = \"CT\")"
   ]
  },
  {
   "cell_type": "markdown",
   "id": "ce6999e0",
   "metadata": {},
   "source": [
    "### B.2/ CT side pistol"
   ]
  },
  {
   "cell_type": "code",
   "execution_count": null,
   "id": "4136ab49",
   "metadata": {
    "scrolled": true
   },
   "outputs": [],
   "source": [
    "%%time\n",
    "pd.set_option('display.max_rows', 500)\n",
    "print(\"SIDE = CT, map:\",map_select,\"team :\",player_name)\n",
    "df,df4 = ct_positionement_start(player_name, map_select,list_match,frame = 7,buy_type = \"Pistol Round\")\n",
    "display(df)\n",
    "df = pistol_analysis(player_name,map_select,list_match,side = 'ct',start_frame = 7)\n",
    "df[0]"
   ]
  },
  {
   "cell_type": "code",
   "execution_count": null,
   "id": "37ab4df5",
   "metadata": {
    "scrolled": true
   },
   "outputs": [],
   "source": [
    "%%time\n",
    "second_round(player_name,map_select,list_match,side = 'ct',premade = [],winning_gr_side = \"CT\")"
   ]
  },
  {
   "cell_type": "code",
   "execution_count": null,
   "id": "2174e0b3",
   "metadata": {
    "scrolled": true
   },
   "outputs": [],
   "source": [
    "%%time\n",
    "second_round(player_name,map_select,list_match,side = 'ct',premade = [],winning_gr_side = \"T\")"
   ]
  },
  {
   "cell_type": "markdown",
   "id": "6b08f7cf-67f4-4eae-9502-239b1e7398a2",
   "metadata": {},
   "source": [
    "### CT killer position fav"
   ]
  },
  {
   "cell_type": "code",
   "execution_count": null,
   "id": "b40fbeb1-409c-4921-abe9-2bf87fc35f30",
   "metadata": {},
   "outputs": [],
   "source": [
    "ct_kill_position(player_name, map_select, list_match,['Parfell'])"
   ]
  },
  {
   "cell_type": "markdown",
   "id": "a3ff58a0",
   "metadata": {},
   "source": [
    "## C/ CT side All type of rounds analysis (full buy vs semi buy etc) \n",
    "### C.1/ CT Full buy analysis"
   ]
  },
  {
   "cell_type": "code",
   "execution_count": null,
   "id": "a0df589f",
   "metadata": {
    "scrolled": true
   },
   "outputs": [],
   "source": [
    "%%time\n",
    "print(\"SIDE = T, map:\",map_select,\"team :\",player_name)\n",
    "df = ct_positionement_start(player_name, map_select,list_match,frame = 7,buy_type = \"Full Buy\")\n",
    "display(df)\n",
    "#df = round_analysis(player_name,map_select,list_match,side = 'ct',premade = [],frame = 7)\n",
    "for player in premade :\n",
    "    df = round_analysis(player_name,map_select,list_match,side = 'ct',premade = [player],frame = 7)\n"
   ]
  },
  {
   "cell_type": "markdown",
   "id": "b14899da",
   "metadata": {},
   "source": [
    "### C.2/ CT Semi Buy analysis"
   ]
  },
  {
   "cell_type": "code",
   "execution_count": null,
   "id": "af3b9edc",
   "metadata": {
    "scrolled": true
   },
   "outputs": [],
   "source": [
    "%%time\n",
    "print(\"SIDE = T, map:\",map_select,\"team :\",player_name)\n",
    "df = ct_positionement_start(player_name, map_select,list_match,frame = 7,buy_type = \"Semi Buy\")\n",
    "display(df)\n",
    "df = round_analysis(player_name,map_select,list_match,side = 'ct',premade = [],buy_type = \"Semi Buy\")\n",
    "for player in premade :\n",
    "    df = round_analysis(player_name,map_select,list_match,side = 'ct',premade = [player],buy_type = \"Semi Buy\")\n"
   ]
  },
  {
   "cell_type": "markdown",
   "id": "73d1551c",
   "metadata": {},
   "source": [
    "### C.3/ CT Semi Eco analysis"
   ]
  },
  {
   "cell_type": "code",
   "execution_count": null,
   "id": "c90c3b51",
   "metadata": {
    "scrolled": true
   },
   "outputs": [],
   "source": [
    "%%time\n",
    "print(\"SIDE = T, map:\",map_select,\"team :\",player_name)\n",
    "df = ct_positionement_start(player_name, map_select,list_match,frame = 7,buy_type = \"Semi Eco\")\n",
    "display(df)\n",
    "df = round_analysis(player_name,map_select,list_match,side = 'ct',premade = [],buy_type = \"Semi Eco\")\n",
    "for player in premade :\n",
    "    df = round_analysis(player_name,map_select,list_match,side = 'ct',premade = [player],buy_type = \"Semi Eco\")\n"
   ]
  },
  {
   "cell_type": "markdown",
   "id": "3f0fd013",
   "metadata": {},
   "source": [
    "### C.4/ CT Full Eco analysis"
   ]
  },
  {
   "cell_type": "code",
   "execution_count": null,
   "id": "7e3fe2d4",
   "metadata": {
    "scrolled": true
   },
   "outputs": [],
   "source": [
    "%%time\n",
    "print(\"SIDE = T, map:\",map_select,\"team :\",player_name)\n",
    "df = ct_positionement_start(player_name, map_select,list_match,frame = 7,buy_type = \"Full Eco\")\n",
    "display(df)\n",
    "df = round_analysis(player_name,map_select,list_match,side = 'ct',premade = [],buy_type = \"Full Eco\")\n",
    "for player in premade :\n",
    "    df = round_analysis(player_name,map_select,list_match,side = 'ct',premade = [player],buy_type = \"Full Eco\")\n"
   ]
  },
  {
   "cell_type": "markdown",
   "id": "a8eefa02",
   "metadata": {},
   "source": [
    "## D/ T side all rounds analysis\n",
    "### D.1/ T full buy analysis"
   ]
  },
  {
   "cell_type": "code",
   "execution_count": null,
   "id": "e81782e1",
   "metadata": {
    "scrolled": true
   },
   "outputs": [],
   "source": [
    "%%time\n",
    "print(\"SIDE = T, map:\",map_select,\"team :\",player_name)\n",
    "#round_analysis(player_name,map_select,list_match,side = 't',premade = [])\n",
    "for player in premade:\n",
    "    df = round_analysis(player_name,map_select,list_match,side = 't',premade = [player])\n"
   ]
  },
  {
   "cell_type": "markdown",
   "id": "729d198c",
   "metadata": {},
   "source": [
    "### D.2/ T Semi Buy analysis"
   ]
  },
  {
   "cell_type": "code",
   "execution_count": null,
   "id": "0c8f7b92",
   "metadata": {
    "scrolled": true
   },
   "outputs": [],
   "source": [
    "%%time\n",
    "df = round_analysis(player_name,map_select,list_match,side = 't',premade = [],buy_type = \"Semi Buy\")\n",
    "for player in premade:\n",
    "    df = round_analysis(player_name,map_select,list_match,side = 't',premade = [player],buy_type = \"Semi Buy\")\n"
   ]
  },
  {
   "cell_type": "markdown",
   "id": "911063e2",
   "metadata": {},
   "source": [
    "### D.3/ T Semi Eco analysis"
   ]
  },
  {
   "cell_type": "code",
   "execution_count": null,
   "id": "90feb65c",
   "metadata": {
    "scrolled": true
   },
   "outputs": [],
   "source": [
    "%%time\n",
    "df = round_analysis(player_name,map_select,list_match,side = 't',premade = [],buy_type = \"Semi Eco\")\n",
    "for player in premade:\n",
    "        df = round_analysis(player_name,map_select,list_match,side = 't',premade = [player],buy_type = \"Semi Eco\")\n"
   ]
  },
  {
   "cell_type": "markdown",
   "id": "00ed0c0b",
   "metadata": {},
   "source": [
    "### D.4/ T Full Eco analysis"
   ]
  },
  {
   "cell_type": "code",
   "execution_count": null,
   "id": "43b4b95b",
   "metadata": {
    "scrolled": true
   },
   "outputs": [],
   "source": [
    "%%time\n",
    "df = round_analysis(player_name,map_select,list_match,side = 't',premade = [],buy_type = \"Full Eco\")\n",
    "for player in premade:\n",
    "        df = round_analysis(player_name,map_select,list_match,side = 't',premade = [player],buy_type = \"Full Eco\")\n"
   ]
  },
  {
   "cell_type": "code",
   "execution_count": null,
   "id": "0bd095ec",
   "metadata": {},
   "outputs": [],
   "source": []
  },
  {
   "cell_type": "code",
   "execution_count": null,
   "id": "76e9b3f6-5e43-4dfd-8d1e-ecc4ab0b02ed",
   "metadata": {},
   "outputs": [],
   "source": [
    "player_dict"
   ]
  },
  {
   "cell_type": "code",
   "execution_count": null,
   "id": "c404a61b-978a-420c-9bd9-b5da38c983d3",
   "metadata": {},
   "outputs": [],
   "source": []
  },
  {
   "cell_type": "code",
   "execution_count": null,
   "id": "6194df8f",
   "metadata": {},
   "outputs": [],
   "source": []
  },
  {
   "cell_type": "code",
   "execution_count": null,
   "id": "c4ac160a",
   "metadata": {},
   "outputs": [],
   "source": []
  },
  {
   "cell_type": "code",
   "execution_count": null,
   "id": "dac8e769",
   "metadata": {},
   "outputs": [],
   "source": []
  },
  {
   "cell_type": "code",
   "execution_count": null,
   "id": "1bf4de56",
   "metadata": {},
   "outputs": [],
   "source": []
  }
 ],
 "metadata": {
  "kernelspec": {
   "display_name": "Python 3 (ipykernel)",
   "language": "python",
   "name": "python3"
  },
  "language_info": {
   "codemirror_mode": {
    "name": "ipython",
    "version": 3
   },
   "file_extension": ".py",
   "mimetype": "text/x-python",
   "name": "python",
   "nbconvert_exporter": "python",
   "pygments_lexer": "ipython3",
   "version": "3.11.4"
  }
 },
 "nbformat": 4,
 "nbformat_minor": 5
}
